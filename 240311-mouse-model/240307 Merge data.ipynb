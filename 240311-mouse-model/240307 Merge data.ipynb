{
 "cells": [
  {
   "cell_type": "code",
   "execution_count": 1,
   "id": "d05f9c3c-6f76-4eda-854b-0d92a6cfa695",
   "metadata": {},
   "outputs": [],
   "source": [
    "from glob import glob\n",
    "\n",
    "import anndata"
   ]
  },
  {
   "cell_type": "code",
   "execution_count": 2,
   "id": "27c2eca8-e324-490c-97a7-54ccc2b311b7",
   "metadata": {},
   "outputs": [
    {
     "data": {
      "text/plain": [
       "{'0.h5ad': 'data/0.h5ad',\n",
       " '1.h5ad': 'data/1.h5ad',\n",
       " '10.h5ad': 'data/10.h5ad',\n",
       " '11.h5ad': 'data/11.h5ad',\n",
       " '12.h5ad': 'data/12.h5ad',\n",
       " '13.h5ad': 'data/13.h5ad',\n",
       " '14.h5ad': 'data/14.h5ad',\n",
       " '15.h5ad': 'data/15.h5ad',\n",
       " '16.h5ad': 'data/16.h5ad',\n",
       " '17.h5ad': 'data/17.h5ad',\n",
       " '18.h5ad': 'data/18.h5ad',\n",
       " '19.h5ad': 'data/19.h5ad',\n",
       " '2.h5ad': 'data/2.h5ad',\n",
       " '3.h5ad': 'data/3.h5ad',\n",
       " '4.h5ad': 'data/4.h5ad',\n",
       " '5.h5ad': 'data/5.h5ad',\n",
       " '6.h5ad': 'data/6.h5ad',\n",
       " '7.h5ad': 'data/7.h5ad',\n",
       " '8.h5ad': 'data/8.h5ad',\n",
       " '9.h5ad': 'data/9.h5ad'}"
      ]
     },
     "execution_count": 2,
     "metadata": {},
     "output_type": "execute_result"
    }
   ],
   "source": [
    "data_path_dict = {k.split('/')[1]: k for k in glob('data/*.h5ad')}\n",
    "data_path_dict"
   ]
  },
  {
   "cell_type": "code",
   "execution_count": 3,
   "id": "d74f8ad9-4cb3-40cc-aa56-37a4cd65e4f8",
   "metadata": {},
   "outputs": [],
   "source": [
    "anndata.experimental.concat_on_disk(data_path_dict, 'mouse_census.h5ad', label = 'chunk')"
   ]
  },
  {
   "cell_type": "code",
   "execution_count": null,
   "id": "2ee2af87-fa77-4c15-9fae-487824ddb883",
   "metadata": {},
   "outputs": [],
   "source": []
  },
  {
   "cell_type": "code",
   "execution_count": null,
   "id": "408d9e8f-0c93-4baf-b455-553d293f0aba",
   "metadata": {},
   "outputs": [],
   "source": []
  },
  {
   "cell_type": "code",
   "execution_count": null,
   "id": "e7cb6d70-267d-468c-bf29-c7004a0f7f3e",
   "metadata": {},
   "outputs": [],
   "source": []
  },
  {
   "cell_type": "code",
   "execution_count": null,
   "id": "8108315d-094b-418b-ae78-a082a1aaa2e6",
   "metadata": {},
   "outputs": [],
   "source": []
  },
  {
   "cell_type": "code",
   "execution_count": null,
   "id": "62b1640e-9b31-45d3-95ff-1eba64bfe0ea",
   "metadata": {},
   "outputs": [],
   "source": []
  },
  {
   "cell_type": "code",
   "execution_count": null,
   "id": "b5f58760-6211-43d5-9000-8c8089c75832",
   "metadata": {},
   "outputs": [],
   "source": []
  },
  {
   "cell_type": "code",
   "execution_count": null,
   "id": "cb28b6e6-6c5a-41a3-8061-771b9f714dc8",
   "metadata": {},
   "outputs": [],
   "source": []
  },
  {
   "cell_type": "code",
   "execution_count": null,
   "id": "47b9d796-396d-4f57-b831-d2aa778f4d35",
   "metadata": {},
   "outputs": [],
   "source": []
  },
  {
   "cell_type": "code",
   "execution_count": null,
   "id": "71dd04d5-dd18-45a5-9a0d-0357e0370f8c",
   "metadata": {},
   "outputs": [],
   "source": []
  },
  {
   "cell_type": "code",
   "execution_count": null,
   "id": "13c184bc-7491-4d70-abdd-974361e64ff9",
   "metadata": {},
   "outputs": [],
   "source": []
  }
 ],
 "metadata": {
  "kernelspec": {
   "display_name": "Python 3 (ipykernel)",
   "language": "python",
   "name": "python3"
  },
  "language_info": {
   "codemirror_mode": {
    "name": "ipython",
    "version": 3
   },
   "file_extension": ".py",
   "mimetype": "text/x-python",
   "name": "python",
   "nbconvert_exporter": "python",
   "pygments_lexer": "ipython3",
   "version": "3.10.11"
  }
 },
 "nbformat": 4,
 "nbformat_minor": 5
}
