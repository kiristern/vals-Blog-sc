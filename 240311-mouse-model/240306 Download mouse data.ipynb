{
 "cells": [
  {
   "cell_type": "code",
   "execution_count": 13,
   "id": "7a95c667-2065-4a7e-9199-4f8464a21819",
   "metadata": {},
   "outputs": [],
   "source": [
    "import cellxgene_census\n",
    "import numpy as np\n",
    "from tqdm import tqdm"
   ]
  },
  {
   "cell_type": "code",
   "execution_count": 5,
   "id": "5e679874-3505-45ce-a9e8-0a00299533cf",
   "metadata": {},
   "outputs": [
    {
     "name": "stderr",
     "output_type": "stream",
     "text": [
      "The \"stable\" release is currently 2023-12-15. Specify 'census_version=\"2023-12-15\"' in future calls to open_soma() to ensure data consistency.\n"
     ]
    }
   ],
   "source": [
    "census = cellxgene_census.open_soma()"
   ]
  },
  {
   "cell_type": "code",
   "execution_count": null,
   "id": "1157afc6-0904-4053-8aa3-3ba918687298",
   "metadata": {},
   "outputs": [],
   "source": []
  },
  {
   "cell_type": "code",
   "execution_count": 9,
   "id": "3311cf58-17de-4767-9971-aad12cdb9fae",
   "metadata": {},
   "outputs": [
    {
     "data": {
      "text/plain": [
       "'assay != \"Smart-seq2\" and assay != \"Smart-seq v4\" and assay != \"Smart-seq\" and is_primary_data == True'"
      ]
     },
     "execution_count": 9,
     "metadata": {},
     "output_type": "execute_result"
    }
   ],
   "source": [
    "obs_value_filter = (\n",
    "    'assay != \"Smart-seq2\"'\n",
    "    ' and assay != \"Smart-seq v4\"'\n",
    "    ' and assay != \"Smart-seq\"'\n",
    "    ' and is_primary_data == True'\n",
    ")\n",
    "\n",
    "obs_value_filter"
   ]
  },
  {
   "cell_type": "code",
   "execution_count": null,
   "id": "23a3cb6a-31f2-44e8-b291-4de572444e69",
   "metadata": {},
   "outputs": [],
   "source": []
  },
  {
   "cell_type": "code",
   "execution_count": 10,
   "id": "a6795fb9-a5f8-4cba-8417-167b075589fa",
   "metadata": {},
   "outputs": [
    {
     "name": "stderr",
     "output_type": "stream",
     "text": [
      "/home/vale/mambaforge/lib/python3.10/site-packages/anndata/_core/anndata.py:117: ImplicitModificationWarning: Transforming to str index.\n",
      "  warnings.warn(\"Transforming to str index.\", ImplicitModificationWarning)\n"
     ]
    }
   ],
   "source": [
    "adata = cellxgene_census.get_anndata(\n",
    "    census = census,\n",
    "    organism = 'Mus musculus',\n",
    "    obs_value_filter = obs_value_filter,\n",
    "    obs_coords = slice(0, 1000)\n",
    ")"
   ]
  },
  {
   "cell_type": "code",
   "execution_count": 11,
   "id": "edfac0d3-36f1-4a4b-8656-14c05b3a5619",
   "metadata": {},
   "outputs": [
    {
     "data": {
      "text/plain": [
       "AnnData object with n_obs × n_vars = 0 × 52417\n",
       "    obs: 'soma_joinid', 'dataset_id', 'assay', 'assay_ontology_term_id', 'cell_type', 'cell_type_ontology_term_id', 'development_stage', 'development_stage_ontology_term_id', 'disease', 'disease_ontology_term_id', 'donor_id', 'is_primary_data', 'self_reported_ethnicity', 'self_reported_ethnicity_ontology_term_id', 'sex', 'sex_ontology_term_id', 'suspension_type', 'tissue', 'tissue_ontology_term_id', 'tissue_general', 'tissue_general_ontology_term_id', 'raw_sum', 'nnz', 'raw_mean_nnz', 'raw_variance_nnz', 'n_measured_vars'\n",
       "    var: 'soma_joinid', 'feature_id', 'feature_name', 'feature_length', 'nnz', 'n_measured_obs'"
      ]
     },
     "execution_count": 11,
     "metadata": {},
     "output_type": "execute_result"
    }
   ],
   "source": [
    "adata"
   ]
  },
  {
   "cell_type": "code",
   "execution_count": null,
   "id": "7222713c-6646-4875-8edc-81872ab9bb6c",
   "metadata": {},
   "outputs": [],
   "source": []
  },
  {
   "cell_type": "code",
   "execution_count": 19,
   "id": "1a1f5659-d6fa-427f-b62d-5567a92953f2",
   "metadata": {},
   "outputs": [
    {
     "data": {
      "text/plain": [
       "'assay == \"10x 3\\' v2\" and is_primary_data == True'"
      ]
     },
     "execution_count": 19,
     "metadata": {},
     "output_type": "execute_result"
    }
   ],
   "source": [
    "obs_value_filter = (\n",
    "    'assay == \"10x 3\\' v2\" and is_primary_data == True'\n",
    ")\n",
    "\n",
    "obs_value_filter"
   ]
  },
  {
   "cell_type": "code",
   "execution_count": 22,
   "id": "89004d32-00bd-40fd-b81c-f0671e05a6aa",
   "metadata": {},
   "outputs": [],
   "source": [
    "adata = cellxgene_census.get_anndata(\n",
    "    census = census,\n",
    "    organism = 'Mus musculus',\n",
    "    # obs_value_filter = obs_value_filter,\n",
    "    obs_coords = slice(0, 10)\n",
    ")"
   ]
  },
  {
   "cell_type": "code",
   "execution_count": 23,
   "id": "23d1aa12-b093-4844-9d9a-eb912502a316",
   "metadata": {},
   "outputs": [
    {
     "data": {
      "text/plain": [
       "AnnData object with n_obs × n_vars = 11 × 52417\n",
       "    obs: 'soma_joinid', 'dataset_id', 'assay', 'assay_ontology_term_id', 'cell_type', 'cell_type_ontology_term_id', 'development_stage', 'development_stage_ontology_term_id', 'disease', 'disease_ontology_term_id', 'donor_id', 'is_primary_data', 'self_reported_ethnicity', 'self_reported_ethnicity_ontology_term_id', 'sex', 'sex_ontology_term_id', 'suspension_type', 'tissue', 'tissue_ontology_term_id', 'tissue_general', 'tissue_general_ontology_term_id', 'raw_sum', 'nnz', 'raw_mean_nnz', 'raw_variance_nnz', 'n_measured_vars'\n",
       "    var: 'soma_joinid', 'feature_id', 'feature_name', 'feature_length', 'nnz', 'n_measured_obs'"
      ]
     },
     "execution_count": 23,
     "metadata": {},
     "output_type": "execute_result"
    }
   ],
   "source": [
    "adata"
   ]
  },
  {
   "cell_type": "code",
   "execution_count": null,
   "id": "15cea815-9a40-4e3f-883e-3bd8175c6915",
   "metadata": {},
   "outputs": [],
   "source": []
  },
  {
   "cell_type": "code",
   "execution_count": 24,
   "id": "d5b0e791-069a-4292-bbdf-e3ed2dc5c497",
   "metadata": {},
   "outputs": [],
   "source": [
    "# From https://github.com/theislab/scTab/blob/devel/notebooks/store_creation/01_download_data.ipynb"
   ]
  },
  {
   "cell_type": "code",
   "execution_count": 7,
   "id": "62f3302c-1617-4e4d-a350-c8030b0a20e9",
   "metadata": {},
   "outputs": [],
   "source": [
    "PROTOCOLS = [\n",
    "    \"10x 5' v2\", \n",
    "    \"10x 3' v3\", \n",
    "    \"10x 3' v2\", \n",
    "    \"10x 5' v1\", \n",
    "    \"10x 3' v1\", \n",
    "    \"10x 3' transcription profiling\", \n",
    "    \"10x 5' transcription profiling\"\n",
    "]"
   ]
  },
  {
   "cell_type": "code",
   "execution_count": null,
   "id": "1de58bf4-2a6f-4b27-b638-d836332cb705",
   "metadata": {},
   "outputs": [],
   "source": []
  },
  {
   "cell_type": "code",
   "execution_count": 27,
   "id": "849abc50-7447-4ad5-b65d-a563098683fa",
   "metadata": {},
   "outputs": [
    {
     "name": "stderr",
     "output_type": "stream",
     "text": [
      "/home/vale/mambaforge/lib/python3.10/site-packages/anndata/_core/anndata.py:117: ImplicitModificationWarning: Transforming to str index.\n",
      "  warnings.warn(\"Transforming to str index.\", ImplicitModificationWarning)\n"
     ]
    },
    {
     "data": {
      "text/plain": [
       "AnnData object with n_obs × n_vars = 0 × 52417\n",
       "    obs: 'soma_joinid', 'dataset_id', 'assay', 'assay_ontology_term_id', 'cell_type', 'cell_type_ontology_term_id', 'development_stage', 'development_stage_ontology_term_id', 'disease', 'disease_ontology_term_id', 'donor_id', 'is_primary_data', 'self_reported_ethnicity', 'self_reported_ethnicity_ontology_term_id', 'sex', 'sex_ontology_term_id', 'suspension_type', 'tissue', 'tissue_ontology_term_id', 'tissue_general', 'tissue_general_ontology_term_id', 'raw_sum', 'nnz', 'raw_mean_nnz', 'raw_variance_nnz', 'n_measured_vars'\n",
       "    var: 'soma_joinid', 'feature_id', 'feature_name', 'feature_length', 'nnz', 'n_measured_obs'"
      ]
     },
     "execution_count": 27,
     "metadata": {},
     "output_type": "execute_result"
    }
   ],
   "source": [
    "adata = cellxgene_census.get_anndata(\n",
    "    census = census,\n",
    "    organism = 'Mus musculus',\n",
    "    obs_value_filter = f\"is_primary_data == True and assay in {PROTOCOLS}\",\n",
    "    obs_coords = slice(0, 10)\n",
    ")\n",
    "\n",
    "adata"
   ]
  },
  {
   "cell_type": "code",
   "execution_count": null,
   "id": "0abdb4c8-4dde-4310-b6b9-4a68111c118e",
   "metadata": {},
   "outputs": [],
   "source": []
  },
  {
   "cell_type": "code",
   "execution_count": 1,
   "id": "58ab8ca3-bcf6-4800-81f6-a15aa5a57550",
   "metadata": {},
   "outputs": [],
   "source": [
    "# adata = cellxgene_census.get_anndata(\n",
    "#     census = census,\n",
    "#     organism = 'Mus musculus',\n",
    "#     obs_value_filter = f\"is_primary_data == True and assay in {PROTOCOLS}\",\n",
    "# )\n",
    "\n",
    "# adata\n",
    "\n",
    "# This runs out of memory. Let's use the scTab strategy of batched download instead.\n",
    "# It seems like cellxgene downloads the data in dense format?"
   ]
  },
  {
   "cell_type": "code",
   "execution_count": 8,
   "id": "5d6edaab-befd-4402-a3a2-56f40d8d3062",
   "metadata": {},
   "outputs": [],
   "source": [
    "COLUMN_NAMES = [\n",
    "    \"soma_joinid\",\n",
    "    \"is_primary_data\",\n",
    "    \"dataset_id\"\n",
    "]"
   ]
  },
  {
   "cell_type": "code",
   "execution_count": 9,
   "id": "9d52b62f-e6b7-47e4-a511-e10bb2ec0395",
   "metadata": {},
   "outputs": [],
   "source": [
    "obs = (\n",
    "    census[\"census_data\"][\"mus_musculus\"]\n",
    "    .obs\n",
    "    .read(\n",
    "        column_names=COLUMN_NAMES,\n",
    "        value_filter=f\"is_primary_data == True and assay in {PROTOCOLS}\"\n",
    "    )\n",
    "    .concat()\n",
    "    .to_pandas()\n",
    ")"
   ]
  },
  {
   "cell_type": "code",
   "execution_count": null,
   "id": "62f11dc7-93af-4f84-a16c-52519d08e8f5",
   "metadata": {},
   "outputs": [],
   "source": []
  },
  {
   "cell_type": "code",
   "execution_count": 12,
   "id": "a5bad4e6-0f16-485e-9095-d4e9d6e9ef46",
   "metadata": {},
   "outputs": [],
   "source": [
    "BASE_PATH = 'data/'"
   ]
  },
  {
   "cell_type": "code",
   "execution_count": 14,
   "id": "6973dfe4-1a1c-4f00-89fe-68b9d3b6394d",
   "metadata": {},
   "outputs": [
    {
     "name": "stderr",
     "output_type": "stream",
     "text": [
      "20it [35:31, 106.57s/it]\n"
     ]
    }
   ],
   "source": [
    "# download in batches to not run out of memory\n",
    "for i, idxs in tqdm(enumerate(np.array_split(obs['soma_joinid'].to_numpy(), 20))):\n",
    "    adata = cellxgene_census.get_anndata(\n",
    "        census=census,\n",
    "        organism=\"Mus musculus\",\n",
    "        X_name='raw',\n",
    "        obs_coords=idxs.tolist(),\n",
    "        column_names={\"var\": ['feature_id', 'feature_name']},\n",
    "    )\n",
    "    adata.write_h5ad(BASE_PATH + f'{i}.h5ad')"
   ]
  },
  {
   "cell_type": "code",
   "execution_count": null,
   "id": "b1fcc902-1282-436b-b344-e355d4bf0989",
   "metadata": {},
   "outputs": [],
   "source": []
  },
  {
   "cell_type": "code",
   "execution_count": null,
   "id": "860a8531-c237-43ad-a768-f951246a1950",
   "metadata": {},
   "outputs": [],
   "source": []
  },
  {
   "cell_type": "code",
   "execution_count": null,
   "id": "5d4efaf6-fccf-497f-8486-8b114469d484",
   "metadata": {},
   "outputs": [],
   "source": []
  },
  {
   "cell_type": "code",
   "execution_count": null,
   "id": "39aab697-3999-4f46-a7b3-6a43e5534201",
   "metadata": {},
   "outputs": [],
   "source": []
  },
  {
   "cell_type": "code",
   "execution_count": null,
   "id": "dc3775e1-77af-4952-aa28-f325b7786664",
   "metadata": {},
   "outputs": [],
   "source": []
  },
  {
   "cell_type": "code",
   "execution_count": null,
   "id": "5955b0e3-b3f5-4064-b343-dfd4e3170d3d",
   "metadata": {},
   "outputs": [],
   "source": []
  },
  {
   "cell_type": "code",
   "execution_count": null,
   "id": "0328d591-9775-480b-a0fe-bbed8e3dd878",
   "metadata": {},
   "outputs": [],
   "source": []
  },
  {
   "cell_type": "code",
   "execution_count": null,
   "id": "cf8762a6-4b2e-417f-a869-4cb5aff28da7",
   "metadata": {},
   "outputs": [],
   "source": []
  }
 ],
 "metadata": {
  "kernelspec": {
   "display_name": "Python 3 (ipykernel)",
   "language": "python",
   "name": "python3"
  },
  "language_info": {
   "codemirror_mode": {
    "name": "ipython",
    "version": 3
   },
   "file_extension": ".py",
   "mimetype": "text/x-python",
   "name": "python",
   "nbconvert_exporter": "python",
   "pygments_lexer": "ipython3",
   "version": "3.10.11"
  }
 },
 "nbformat": 4,
 "nbformat_minor": 5
}
